
# 🟢 Step 0: Install required libraries
!pip install requests pandas tqdm

# 🟢 Step 1: Import libraries
import requests
import base64
import pandas as pd
from tqdm import tqdm

# 🟢 Step 2: Input your Spotify Developer credentials
client_id = "YOUR_SPOTIFY_CLIENT_ID"  # 🔁 Replace this
client_secret = "YOUR_SPOTIFY_CLIENT_SECRET"  # 🔁 Replace this

# 🟢 Step 3: Get Spotify access token
def get_spotify_token(client_id, client_secret):
    auth_str = f"{client_id}:{client_secret}"
    b64_auth_str = base64.b64encode(auth_str.encode()).decode()
    headers = {
        "Authorization": f"Basic {b64_auth_str}"
    }
    data = {
        "grant_type": "client_credentials"
    }
    response = requests.post("https://accounts.spotify.com/api/token", headers=headers, data=data)
    return response.json().get("access_token")

# 🟢 Step 4: Define API functions
def search_track_id(track_name, artist, token):
    query = f"{track_name} artist:{artist}"
    url = f"https://api.spotify.com/v1/search?q={requests.utils.quote(query)}&type=track&limit=1"
    headers = {"Authorization": f"Bearer {token}"}
    response = requests.get(url, headers=headers)
    data = response.json()
    if data.get("tracks") and data["tracks"]["items"]:
        return data["tracks"]["items"][0]["id"]
    return None

def get_audio_features(track_id, token):
    url = f"https://api.spotify.com/v1/audio-features/{track_id}"
    headers = {"Authorization": f"Bearer {token}"}
    response = requests.get(url, headers=headers)
    if response.status_code == 200:
        return response.json()
    return None

# 🟢 Step 5: Upload your CSV file with Track and Artist columns
from google.colab import files
uploaded = files.upload()

csv_filename = next(iter(uploaded))
df = pd.read_csv(csv_filename)

# 🟢 Step 6: Clean and extract unique track-artist pairs
df = df[['Track', 'Artist']].dropna().drop_duplicates()
df.columns = ['track', 'artist']

# 🟢 Step 7: Fetch audio features for each track
token = get_spotify_token(client_id, client_secret)
audio_features = []

for _, row in tqdm(df.iterrows(), total=len(df)):
    track_id = search_track_id(row['track'], row['artist'], token)
    if track_id:
        features = get_audio_features(track_id, token)
        if features:
            features['track'] = row['track']
            features['artist'] = row['artist']
            audio_features.append(features)

# 🟢 Step 8: Convert to DataFrame and export
audio_df = pd.DataFrame(audio_features)
audio_df.to_csv("spotify_audio_features.csv", index=False)

from google.colab import files
files.download("spotify_audio_features.csv")
